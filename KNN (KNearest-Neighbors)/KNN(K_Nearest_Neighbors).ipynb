{
  "nbformat": 4,
  "nbformat_minor": 0,
  "metadata": {
    "colab": {
      "name": "KNN(K-Nearest Neighbors).ipynb",
      "provenance": []
    },
    "kernelspec": {
      "name": "python3",
      "display_name": "Python 3"
    },
    "language_info": {
      "name": "python"
    }
  },
  "cells": [
    {
      "cell_type": "code",
      "metadata": {
        "id": "JRBi2xoJpLvn"
      },
      "source": [
        "weather=['Sunny','Rainy','Overcast','Sunny','Rainy','Overcast','Sunny','Rainy',\n",
        "         'Overcast','Sunny','Rainy','Overcast','Sunny','Rainy','Overcast']\n",
        "temp=['hot','mild','cool','hot','mild','cool','hot','mild','cool','hot','mild','cool','hot','mild','cool']\n",
        "play=['yes','no','yes','no','yes','no','yes','no','yes','no','yes','no','yes','no','no']\n"
      ],
      "execution_count": 3,
      "outputs": []
    },
    {
      "cell_type": "code",
      "metadata": {
        "id": "zQiUNI8eqJNz"
      },
      "source": [
        "from sklearn import preprocessing"
      ],
      "execution_count": 4,
      "outputs": []
    },
    {
      "cell_type": "code",
      "metadata": {
        "id": "6HBUxEXbqTwM"
      },
      "source": [
        "le=preprocessing.LabelEncoder()\n",
        "weather_encoded=le.fit_transform(weather)"
      ],
      "execution_count": 8,
      "outputs": []
    },
    {
      "cell_type": "code",
      "metadata": {
        "colab": {
          "base_uri": "https://localhost:8080/"
        },
        "id": "KIzK6tgPrEOw",
        "outputId": "028f90c5-cfa7-4601-9f9b-2ef2ce8201be"
      },
      "source": [
        "weather_encoded"
      ],
      "execution_count": 10,
      "outputs": [
        {
          "output_type": "execute_result",
          "data": {
            "text/plain": [
              "array([2, 1, 0, 2, 1, 0, 2, 1, 0, 2, 1, 0, 2, 1, 0])"
            ]
          },
          "metadata": {},
          "execution_count": 10
        }
      ]
    },
    {
      "cell_type": "code",
      "metadata": {
        "id": "DbnooUBPrNEt"
      },
      "source": [
        "temp_encoded=le.fit_transform(temp)\n",
        "play_encoded=le.fit_transform(play)"
      ],
      "execution_count": 11,
      "outputs": []
    },
    {
      "cell_type": "code",
      "metadata": {
        "colab": {
          "base_uri": "https://localhost:8080/"
        },
        "id": "Ft8zmKyfrVd6",
        "outputId": "74af0305-4c03-4574-b446-ab51c98cecf4"
      },
      "source": [
        "temp_encoded"
      ],
      "execution_count": 13,
      "outputs": [
        {
          "output_type": "execute_result",
          "data": {
            "text/plain": [
              "array([1, 2, 0, 1, 2, 0, 1, 2, 0, 1, 2, 0, 1, 2, 0])"
            ]
          },
          "metadata": {},
          "execution_count": 13
        }
      ]
    },
    {
      "cell_type": "code",
      "metadata": {
        "id": "WhVGZtdMrbS5"
      },
      "source": [
        "features=list(zip(weather_encoded,temp_encoded))"
      ],
      "execution_count": 14,
      "outputs": []
    },
    {
      "cell_type": "code",
      "metadata": {
        "colab": {
          "base_uri": "https://localhost:8080/"
        },
        "id": "V5EVk3Mpt3ab",
        "outputId": "e17c0308-f4b0-41aa-cdd5-443f4b2133cb"
      },
      "source": [
        "features"
      ],
      "execution_count": 19,
      "outputs": [
        {
          "output_type": "execute_result",
          "data": {
            "text/plain": [
              "[(2, 1),\n",
              " (1, 2),\n",
              " (0, 0),\n",
              " (2, 1),\n",
              " (1, 2),\n",
              " (0, 0),\n",
              " (2, 1),\n",
              " (1, 2),\n",
              " (0, 0),\n",
              " (2, 1),\n",
              " (1, 2),\n",
              " (0, 0),\n",
              " (2, 1),\n",
              " (1, 2),\n",
              " (0, 0)]"
            ]
          },
          "metadata": {},
          "execution_count": 19
        }
      ]
    },
    {
      "cell_type": "code",
      "metadata": {
        "id": "5-NPVxZvr1qz"
      },
      "source": [
        "from sklearn.neighbors import KNeighborsClassifier\n",
        "model=KNeighborsClassifier(n_neighbors=3)"
      ],
      "execution_count": 17,
      "outputs": []
    },
    {
      "cell_type": "code",
      "metadata": {
        "colab": {
          "base_uri": "https://localhost:8080/"
        },
        "id": "YivbFvRNtb__",
        "outputId": "905385b8-9019-4c7b-c169-41d2c1c98c9c"
      },
      "source": [
        "model.fit(features,play_encoded)"
      ],
      "execution_count": 21,
      "outputs": [
        {
          "output_type": "execute_result",
          "data": {
            "text/plain": [
              "KNeighborsClassifier(algorithm='auto', leaf_size=30, metric='minkowski',\n",
              "                     metric_params=None, n_jobs=None, n_neighbors=3, p=2,\n",
              "                     weights='uniform')"
            ]
          },
          "metadata": {},
          "execution_count": 21
        }
      ]
    },
    {
      "cell_type": "code",
      "metadata": {
        "colab": {
          "base_uri": "https://localhost:8080/"
        },
        "id": "iC_5bfs8uLko",
        "outputId": "b22ef979-155c-49f6-81d4-33cfd6b051ce"
      },
      "source": [
        "model.predict([[2,1]])"
      ],
      "execution_count": 23,
      "outputs": [
        {
          "output_type": "execute_result",
          "data": {
            "text/plain": [
              "array([1])"
            ]
          },
          "metadata": {},
          "execution_count": 23
        }
      ]
    }
  ]
}